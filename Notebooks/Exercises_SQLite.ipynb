{
 "cells": [
  {
   "cell_type": "markdown",
   "metadata": {},
   "source": [
    "## Introduction to Databases\n",
    "\n",
    "### SQLite exercises "
   ]
  },
  {
   "cell_type": "markdown",
   "metadata": {},
   "source": [
    "!pip install tabulate"
   ]
  },
  {
   "cell_type": "code",
   "execution_count": 1,
   "metadata": {},
   "outputs": [],
   "source": [
    "import os\n",
    "import sys\n",
    "import time\n",
    "import datetime\n",
    "import numpy as np\n",
    "import pandas as pd\n",
    "\n",
    "from tabulate import tabulate\n",
    "\n",
    "import sqlite3"
   ]
  },
  {
   "cell_type": "markdown",
   "metadata": {},
   "source": [
    "![Db Schema](Figs/database-model.gif)"
   ]
  },
  {
   "cell_type": "markdown",
   "metadata": {},
   "source": [
    "### Establishing a connection"
   ]
  },
  {
   "cell_type": "code",
   "execution_count": 2,
   "metadata": {},
   "outputs": [],
   "source": [
    "conn = sqlite3.connect(os.path.join(\"SampleDBs\",'hr.sqlite'))\n",
    "cur = conn.cursor()"
   ]
  },
  {
   "cell_type": "code",
   "execution_count": 3,
   "metadata": {},
   "outputs": [
    {
     "name": "stdout",
     "output_type": "stream",
     "text": [
      "[('countries',), ('regions',), ('locations',), ('departments',), ('jobs',), ('employees',), ('department',), ('job_history',), ('prod_mast',), ('prod_backup',), ('orders',), ('tb1',), ('ESERCICIO1',), ('users',), ('tags',), ('s',), ('r',), ('Emor',), ('MIN_SALARY',), ('employee_data',), ('STUDENT',), ('EMPLOYEE_INCOME',), ('details',)]\n"
     ]
    }
   ],
   "source": [
    "cur.execute(\"SELECT name FROM sqlite_master WHERE type='table';\")\n",
    "print(cur.fetchall())"
   ]
  },
  {
   "cell_type": "code",
   "execution_count": 4,
   "metadata": {},
   "outputs": [
    {
     "name": "stdout",
     "output_type": "stream",
     "text": [
      "---------------\n",
      "countries\n",
      "regions\n",
      "locations\n",
      "departments\n",
      "jobs\n",
      "employees\n",
      "department\n",
      "job_history\n",
      "prod_mast\n",
      "prod_backup\n",
      "orders\n",
      "tb1\n",
      "ESERCICIO1\n",
      "users\n",
      "tags\n",
      "s\n",
      "r\n",
      "Emor\n",
      "MIN_SALARY\n",
      "employee_data\n",
      "STUDENT\n",
      "EMPLOYEE_INCOME\n",
      "details\n",
      "---------------\n"
     ]
    }
   ],
   "source": [
    "cur.execute(\"SELECT name FROM sqlite_master WHERE type='table';\")\n",
    "print(tabulate(cur.fetchall()))"
   ]
  },
  {
   "cell_type": "code",
   "execution_count": 5,
   "metadata": {},
   "outputs": [
    {
     "name": "stdout",
     "output_type": "stream",
     "text": [
      "('countries',)\n",
      "('regions',)\n",
      "('locations',)\n",
      "('departments',)\n",
      "('jobs',)\n",
      "('employees',)\n",
      "('department',)\n",
      "('job_history',)\n",
      "('prod_mast',)\n",
      "('prod_backup',)\n",
      "('orders',)\n",
      "('tb1',)\n",
      "('ESERCICIO1',)\n",
      "('users',)\n",
      "('tags',)\n",
      "('s',)\n",
      "('r',)\n",
      "('Emor',)\n",
      "('MIN_SALARY',)\n",
      "('employee_data',)\n",
      "('STUDENT',)\n",
      "('EMPLOYEE_INCOME',)\n",
      "('details',)\n"
     ]
    }
   ],
   "source": [
    "cur.execute(\"SELECT name FROM sqlite_master WHERE type='table';\")\n",
    "for res in cur.fetchall():\n",
    "    print(res)"
   ]
  },
  {
   "cell_type": "code",
   "execution_count": 6,
   "metadata": {},
   "outputs": [
    {
     "data": {
      "text/html": [
       "<div>\n",
       "<style scoped>\n",
       "    .dataframe tbody tr th:only-of-type {\n",
       "        vertical-align: middle;\n",
       "    }\n",
       "\n",
       "    .dataframe tbody tr th {\n",
       "        vertical-align: top;\n",
       "    }\n",
       "\n",
       "    .dataframe thead th {\n",
       "        text-align: right;\n",
       "    }\n",
       "</style>\n",
       "<table border=\"1\" class=\"dataframe\">\n",
       "  <thead>\n",
       "    <tr style=\"text-align: right;\">\n",
       "      <th></th>\n",
       "      <th>name</th>\n",
       "    </tr>\n",
       "  </thead>\n",
       "  <tbody>\n",
       "    <tr>\n",
       "      <th>0</th>\n",
       "      <td>countries</td>\n",
       "    </tr>\n",
       "    <tr>\n",
       "      <th>1</th>\n",
       "      <td>regions</td>\n",
       "    </tr>\n",
       "    <tr>\n",
       "      <th>2</th>\n",
       "      <td>locations</td>\n",
       "    </tr>\n",
       "    <tr>\n",
       "      <th>3</th>\n",
       "      <td>departments</td>\n",
       "    </tr>\n",
       "    <tr>\n",
       "      <th>4</th>\n",
       "      <td>jobs</td>\n",
       "    </tr>\n",
       "    <tr>\n",
       "      <th>5</th>\n",
       "      <td>employees</td>\n",
       "    </tr>\n",
       "    <tr>\n",
       "      <th>6</th>\n",
       "      <td>department</td>\n",
       "    </tr>\n",
       "    <tr>\n",
       "      <th>7</th>\n",
       "      <td>job_history</td>\n",
       "    </tr>\n",
       "    <tr>\n",
       "      <th>8</th>\n",
       "      <td>prod_mast</td>\n",
       "    </tr>\n",
       "    <tr>\n",
       "      <th>9</th>\n",
       "      <td>prod_backup</td>\n",
       "    </tr>\n",
       "  </tbody>\n",
       "</table>\n",
       "</div>"
      ],
      "text/plain": [
       "          name\n",
       "0    countries\n",
       "1      regions\n",
       "2    locations\n",
       "3  departments\n",
       "4         jobs\n",
       "5    employees\n",
       "6   department\n",
       "7  job_history\n",
       "8    prod_mast\n",
       "9  prod_backup"
      ]
     },
     "execution_count": 6,
     "metadata": {},
     "output_type": "execute_result"
    }
   ],
   "source": [
    "df = pd.read_sql(\"SELECT name FROM sqlite_master WHERE type='table';\", conn)\n",
    "df.head(10)"
   ]
  },
  {
   "cell_type": "markdown",
   "metadata": {},
   "source": [
    "### SQL Questions"
   ]
  },
  {
   "cell_type": "markdown",
   "metadata": {},
   "source": [
    "+ Write a query to display the names (first_name, last_name) using alias name \"First Name\", \"Last Name\" on the table \"employees\"  "
   ]
  },
  {
   "cell_type": "code",
   "execution_count": 7,
   "metadata": {},
   "outputs": [
    {
     "name": "stdout",
     "output_type": "stream",
     "text": [
      "('Steven', 'King')\n",
      "('Neena', 'Kochhar')\n",
      "('Lex', 'De Haan')\n",
      "('Alexander', 'Hunold')\n",
      "('Bruce', 'Ernst')\n",
      "('David', 'Austin')\n",
      "('Valli', 'Pataballa')\n",
      "('Diana', 'Lorentz')\n",
      "('Nancy', 'Greenberg')\n",
      "('Daniel', 'Faviet')\n"
     ]
    }
   ],
   "source": [
    "query_1 = '''SELECT first_name AS \"First Name\", last_name AS \"Last Name\" FROM employees'''\n",
    "cur.execute(query_1)\n",
    "for c in cur.fetchmany(10):\n",
    "    print(c)"
   ]
  },
  {
   "cell_type": "markdown",
   "metadata": {},
   "source": [
    "+ Write a query to get unique department ID on the table \"employees\"  "
   ]
  },
  {
   "cell_type": "code",
   "execution_count": 8,
   "metadata": {},
   "outputs": [
    {
     "name": "stdout",
     "output_type": "stream",
     "text": [
      "(90,)\n",
      "(60,)\n",
      "(100,)\n",
      "(30,)\n",
      "(50,)\n",
      "(80,)\n",
      "(0,)\n",
      "(10,)\n",
      "(20,)\n",
      "(40,)\n",
      "(70,)\n",
      "(110,)\n"
     ]
    }
   ],
   "source": [
    "query_2 = '''SELECT DISTINCT department_id FROM employees'''\n",
    "cur.execute(query_2)\n",
    "for c in cur.fetchall():\n",
    "    print(c)"
   ]
  },
  {
   "cell_type": "markdown",
   "metadata": {},
   "source": [
    "+ Write a query to get all employee details from the employee table order by first name, descending on the table \"employees\"  "
   ]
  },
  {
   "cell_type": "code",
   "execution_count": 9,
   "metadata": {},
   "outputs": [
    {
     "name": "stdout",
     "output_type": "stream",
     "text": [
      "(180, 'Winston', 'Taylor', 'WTAYLOR', '650.507.9876', '1987-09-05', 'SH_CLERK', 3200, 0, 120, 50, None)\n",
      "(171, 'William', 'Smith', 'WSMITH', '011.44.1343.629268', '1987-08-27', 'SA_REP', 7400, 0.15, 148, 80, None)\n",
      "(206, 'William', 'Gietz', 'WGIETZ', '515.123.8181', '1987-10-01', 'AC_ACCOUNT', 8300, 1, 205, 110, None)\n",
      "(195, 'Vance', 'Jones', 'VJONES', '650.501.4876', '1987-09-20', 'SH_CLERK', 2800, 0, 123, 50, None)\n",
      "(106, 'Valli', 'Pataballa', 'VPATABAL', '590.423.4560', '1987-06-23', 'IT_PROG', 4800, 0, 103, 60, None)\n",
      "(141, 'Trenna', 'Rajs', 'TRAJS', '650.121.8009', '1987-07-28', 'ST_CLERK', 3500, 0, 124, 50, None)\n",
      "(190, 'Timothy', 'Gates', 'TGATES', '650.505.3876', '1987-09-15', 'SH_CLERK', 2900, 0, 122, 50, None)\n",
      "(170, 'Tayler', 'Fox', 'TFOX', '011.44.1343.729268', '1987-08-26', 'SA_REP', 9600, 0.2, 148, 80, None)\n",
      "(132, 'TJ', 'Olson', 'TJOLSON', '650.124.8234', '1987-07-19', 'ST_CLERK', 2100, 0, 121, 50, None)\n",
      "(203, 'Susan', 'Mavris', 'SMAVRIS', '515.123.7777', '1987-09-28', 'HR_REP', 6500, 0, 101, 40, None)\n"
     ]
    }
   ],
   "source": [
    "query_3 = '''\n",
    "SELECT * \n",
    "FROM employees \n",
    "ORDER BY first_name DESC'''\n",
    "\n",
    "cur.execute(query_3)\n",
    "for c in cur.fetchmany(10):\n",
    "    print(c)"
   ]
  },
  {
   "cell_type": "markdown",
   "metadata": {},
   "source": [
    "+ Write a query to get the names (first_name, last_name), salary, PF of all the employees (PF is calculated as 12% of salary) on the table \"employees\"  "
   ]
  },
  {
   "cell_type": "code",
   "execution_count": 10,
   "metadata": {},
   "outputs": [
    {
     "name": "stdout",
     "output_type": "stream",
     "text": [
      "('Steven', 'King', 24000, 2880.0)\n",
      "('Neena', 'Kochhar', 17000, 2040.0)\n",
      "('Lex', 'De Haan', 17000, 2040.0)\n",
      "('Alexander', 'Hunold', 9000, 1080.0)\n",
      "('Bruce', 'Ernst', 6000, 720.0)\n",
      "('David', 'Austin', 4800, 576.0)\n",
      "('Valli', 'Pataballa', 4800, 576.0)\n",
      "('Diana', 'Lorentz', 4200, 504.0)\n",
      "('Nancy', 'Greenberg', 12000, 1440.0)\n",
      "('Daniel', 'Faviet', 9000, 1080.0)\n"
     ]
    }
   ],
   "source": [
    "query_4 = '''\n",
    "SELECT first_name, last_name, salary, salary *.12 AS PF\n",
    "FROM employees \n",
    "'''\n",
    "\n",
    "cur.execute(query_4)\n",
    "for c in cur.fetchmany(10):\n",
    "    print(c)"
   ]
  },
  {
   "cell_type": "markdown",
   "metadata": {},
   "source": [
    "+ Write a query to get the employee ID, names (first_name, last_name), salary in ascending order of salary on the table \"employees\"  "
   ]
  },
  {
   "cell_type": "code",
   "execution_count": 11,
   "metadata": {},
   "outputs": [
    {
     "name": "stdout",
     "output_type": "stream",
     "text": [
      "(132, 'TJ', 'Olson', 2100)\n",
      "(128, 'Steven', 'Markle', 2200)\n",
      "(136, 'Hazel', 'Philtanker', 2200)\n",
      "(127, 'James', 'Landry', 2400)\n",
      "(135, 'Ki', 'Gee', 2400)\n",
      "(119, 'Karen', 'Colmenares', 2500)\n",
      "(131, 'James', 'Marlow', 2500)\n",
      "(140, 'Joshua', 'Patel', 2500)\n",
      "(144, 'Peter', 'Vargas', 2500)\n",
      "(182, 'Martha', 'Sullivan', 2500)\n"
     ]
    }
   ],
   "source": [
    "query_5 = '''\n",
    "SELECT employee_id, first_name, last_name, salary\n",
    "FROM employees \n",
    "ORDER BY salary ASC\n",
    "'''\n",
    "\n",
    "cur.execute(query_5)\n",
    "for c in cur.fetchmany(10):\n",
    "    print(c)"
   ]
  },
  {
   "cell_type": "markdown",
   "metadata": {},
   "source": [
    "+ Write a query to get the total salaries payable to employees on the table \"employees\"  "
   ]
  },
  {
   "cell_type": "code",
   "execution_count": 12,
   "metadata": {},
   "outputs": [
    {
     "name": "stdout",
     "output_type": "stream",
     "text": [
      "691400\n"
     ]
    }
   ],
   "source": [
    "query_6 = '''\n",
    "SELECT SUM(salary)\n",
    "FROM employees \n",
    "'''\n",
    "\n",
    "cur.execute(query_6)\n",
    "for c in cur.fetchone():\n",
    "    print(c)"
   ]
  },
  {
   "cell_type": "markdown",
   "metadata": {},
   "source": [
    "+ Write a query to get the maximum and minimum salary from employees table on the table \"employees\"  "
   ]
  },
  {
   "cell_type": "code",
   "execution_count": 13,
   "metadata": {},
   "outputs": [
    {
     "name": "stdout",
     "output_type": "stream",
     "text": [
      "24000\n",
      "2100\n"
     ]
    }
   ],
   "source": [
    "query_7 = '''\n",
    "SELECT MAX(salary), MIN (SALARY)\n",
    "FROM employees \n",
    "'''\n",
    "\n",
    "cur.execute(query_7)\n",
    "for c in cur.fetchone():\n",
    "    print(c)"
   ]
  },
  {
   "cell_type": "markdown",
   "metadata": {},
   "source": [
    "+ Write a query to get the average salary and number of employees in the employees table on the table \"employees\"  "
   ]
  },
  {
   "cell_type": "code",
   "execution_count": 14,
   "metadata": {},
   "outputs": [
    {
     "name": "stdout",
     "output_type": "stream",
     "text": [
      "6461.682242990654\n",
      "107\n"
     ]
    }
   ],
   "source": [
    "query_8 = '''\n",
    "SELECT AVG(salary), COUNT (employee_id)\n",
    "FROM employees \n",
    "'''\n",
    "\n",
    "cur.execute(query_8)\n",
    "for c in cur.fetchone():\n",
    "    print(c)"
   ]
  },
  {
   "cell_type": "markdown",
   "metadata": {},
   "source": [
    "+ Write a query to get the number of employees working with the company on the table \"employees\"  "
   ]
  },
  {
   "cell_type": "code",
   "execution_count": 15,
   "metadata": {},
   "outputs": [
    {
     "name": "stdout",
     "output_type": "stream",
     "text": [
      "107\n"
     ]
    }
   ],
   "source": [
    "query_9 = '''\n",
    "SELECT COUNT(*)\n",
    "FROM employees\n",
    "'''\n",
    "    \n",
    "cur.execute(query_9)\n",
    "for c in cur.fetchone():\n",
    "    print(c)"
   ]
  },
  {
   "cell_type": "markdown",
   "metadata": {},
   "source": [
    "+ Write a query to get the number of jobs available in the employees table on the table \"employees\"  "
   ]
  },
  {
   "cell_type": "code",
   "execution_count": 16,
   "metadata": {},
   "outputs": [
    {
     "name": "stdout",
     "output_type": "stream",
     "text": [
      "19\n"
     ]
    }
   ],
   "source": [
    "query_10 = '''\n",
    "SELECT COUNT (DISTINCT job_id)\n",
    "FROM employees\n",
    "'''\n",
    "    \n",
    "cur.execute(query_10)\n",
    "for c in cur.fetchone():\n",
    "    print(c)"
   ]
  },
  {
   "cell_type": "markdown",
   "metadata": {},
   "source": [
    "+ Write a query to get all first name from employees table in upper case on the table \"employees\"  "
   ]
  },
  {
   "cell_type": "code",
   "execution_count": 17,
   "metadata": {},
   "outputs": [
    {
     "name": "stdout",
     "output_type": "stream",
     "text": [
      "('STEVEN',)\n",
      "('NEENA',)\n",
      "('LEX',)\n",
      "('ALEXANDER',)\n",
      "('BRUCE',)\n",
      "('DAVID',)\n",
      "('VALLI',)\n",
      "('DIANA',)\n",
      "('NANCY',)\n",
      "('DANIEL',)\n"
     ]
    }
   ],
   "source": [
    "query_11 = '''\n",
    "SELECT UPPER(first_name)\n",
    "FROM employees\n",
    "'''\n",
    "    \n",
    "cur.execute(query_11)\n",
    "for c in cur.fetchmany(10):\n",
    "    print(c)"
   ]
  },
  {
   "cell_type": "markdown",
   "metadata": {},
   "source": [
    "+ Write a query to get the first 3 characters of first name from employees table on the table \"employees\"  "
   ]
  },
  {
   "cell_type": "code",
   "execution_count": 18,
   "metadata": {},
   "outputs": [
    {
     "name": "stdout",
     "output_type": "stream",
     "text": [
      "('Ste',)\n",
      "('Nee',)\n",
      "('Lex',)\n",
      "('Ale',)\n",
      "('Bru',)\n",
      "('Dav',)\n",
      "('Val',)\n",
      "('Dia',)\n",
      "('Nan',)\n",
      "('Dan',)\n"
     ]
    }
   ],
   "source": [
    "query_12 = '''\n",
    "SELECT SUBSTR (first_name,1,3)\n",
    "FROM employees\n",
    "'''\n",
    "    \n",
    "cur.execute(query_12)\n",
    "for c in cur.fetchmany(10):\n",
    "    print(c)"
   ]
  },
  {
   "cell_type": "markdown",
   "metadata": {},
   "source": [
    "+ Write a query to calculate 171*214+625."
   ]
  },
  {
   "cell_type": "code",
   "execution_count": 19,
   "metadata": {},
   "outputs": [
    {
     "name": "stdout",
     "output_type": "stream",
     "text": [
      "37219\n"
     ]
    }
   ],
   "source": [
    "query_13 = '''\n",
    " SELECT 171*214+625\n",
    "'''\n",
    "    \n",
    "cur.execute(query_13)\n",
    "for c in cur.fetchone():\n",
    "    print(c)"
   ]
  },
  {
   "cell_type": "markdown",
   "metadata": {},
   "source": [
    "+ Write a query to get the names (for example Ellen Abel, Sundar Ande etc.) of all the employees from employees table"
   ]
  },
  {
   "cell_type": "code",
   "execution_count": 20,
   "metadata": {},
   "outputs": [
    {
     "name": "stdout",
     "output_type": "stream",
     "text": [
      "('Steven King',)\n",
      "('Neena Kochhar',)\n",
      "('Lex De Haan',)\n",
      "('Alexander Hunold',)\n",
      "('Bruce Ernst',)\n",
      "('David Austin',)\n",
      "('Valli Pataballa',)\n",
      "('Diana Lorentz',)\n",
      "('Nancy Greenberg',)\n",
      "('Daniel Faviet',)\n"
     ]
    }
   ],
   "source": [
    "query_14 = '''\n",
    "SELECT first_name || ' ' || last_name\n",
    "FROM employees\n",
    "'''\n",
    "    \n",
    "cur.execute(query_14)\n",
    "for c in cur.fetchmany(10):\n",
    "    print(c)"
   ]
  },
  {
   "cell_type": "markdown",
   "metadata": {},
   "source": [
    "+ Write a query to get first name from employees table after removing white spaces from both sides on the table \"employees\"  "
   ]
  },
  {
   "cell_type": "code",
   "execution_count": 21,
   "metadata": {},
   "outputs": [
    {
     "name": "stdout",
     "output_type": "stream",
     "text": [
      "('Steven',)\n",
      "('Neena',)\n",
      "('Lex',)\n",
      "('Alexander',)\n",
      "('Bruce',)\n",
      "('David',)\n",
      "('Valli',)\n",
      "('Diana',)\n",
      "('Nancy',)\n",
      "('Daniel',)\n"
     ]
    }
   ],
   "source": [
    "query_15 = '''\n",
    "SELECT trim (first_name)\n",
    "FROM employees\n",
    "'''\n",
    "    \n",
    "cur.execute(query_15)\n",
    "for c in cur.fetchmany(10):\n",
    "    print(c)"
   ]
  },
  {
   "cell_type": "markdown",
   "metadata": {},
   "source": [
    "+ Write a query to get the length of the employee names (first_name, last_name) from employees table on the table \"employees\"  "
   ]
  },
  {
   "cell_type": "code",
   "execution_count": 22,
   "metadata": {},
   "outputs": [
    {
     "name": "stdout",
     "output_type": "stream",
     "text": [
      "(10,)\n",
      "(12,)\n",
      "(10,)\n",
      "(15,)\n",
      "(10,)\n",
      "(11,)\n",
      "(14,)\n",
      "(12,)\n",
      "(14,)\n",
      "(12,)\n"
     ]
    }
   ],
   "source": [
    "query_16 = '''\n",
    "SELECT length(first_name || last_name)\n",
    "FROM employees\n",
    "'''\n",
    "    \n",
    "cur.execute(query_16)\n",
    "for c in cur.fetchmany(10):\n",
    "    print(c)"
   ]
  },
  {
   "cell_type": "markdown",
   "metadata": {},
   "source": [
    "+ Write a query to select first 10 records from a table on the table \"employees\"  "
   ]
  },
  {
   "cell_type": "code",
   "execution_count": 23,
   "metadata": {},
   "outputs": [
    {
     "name": "stdout",
     "output_type": "stream",
     "text": [
      "(100, 'Steven', 'King', 'SKING', '515.123.4567', '1987-06-17', 'AD_PRES', 24000, 0, 0, 90, None)\n",
      "(101, 'Neena', 'Kochhar', 'NKOCHHAR', '515.123.4568', '1987-06-18', 'AD_VP', 17000, 0, 100, 90, None)\n",
      "(102, 'Lex', 'De Haan', 'LDEHAAN', '515.123.4569', '1987-06-19', 'AD_VP', 17000, 0, 100, 90, None)\n",
      "(103, 'Alexander', 'Hunold', 'AHUNOLD', '590.423.4567', '1987-06-20', 'IT_PROG', 9000, 0, 102, 60, None)\n",
      "(104, 'Bruce', 'Ernst', 'BERNST', '590.423.4568', '1987-06-21', 'IT_PROG', 6000, 0, 103, 60, None)\n",
      "(105, 'David', 'Austin', 'DAUSTIN', '590.423.4569', '1987-06-22', 'IT_PROG', 4800, 0, 103, 60, None)\n",
      "(106, 'Valli', 'Pataballa', 'VPATABAL', '590.423.4560', '1987-06-23', 'IT_PROG', 4800, 0, 103, 60, None)\n",
      "(107, 'Diana', 'Lorentz', 'DLORENTZ', '590.423.5567', '1987-06-24', 'IT_PROG', 4200, 0, 103, 60, None)\n",
      "(108, 'Nancy', 'Greenberg', 'NGREENBE', '515.124.4569', '1987-06-25', 'FI_MGR', 12000, 0, 101, 100, None)\n",
      "(109, 'Daniel', 'Faviet', 'DFAVIET', '515.124.4169', '1987-06-26', 'FI_ACCOUNT', 9000, 0, 108, 100, None)\n"
     ]
    }
   ],
   "source": [
    "query_17 = '''\n",
    "SELECT *\n",
    "FROM employees\n",
    "LIMIT 10\n",
    "'''\n",
    "    \n",
    "cur.execute(query_17)\n",
    "for c in cur.fetchmany(12):\n",
    "    print(c)"
   ]
  },
  {
   "cell_type": "markdown",
   "metadata": {},
   "source": [
    "+ Write a query to get monthly salary (round 2 decimal places) of each and every employee? - on the table \"employees\"  \n",
    "Note : Assume the salary field provides the 'annual salary' information."
   ]
  },
  {
   "cell_type": "code",
   "execution_count": 24,
   "metadata": {},
   "outputs": [
    {
     "name": "stdout",
     "output_type": "stream",
     "text": [
      "(4000.0,)\n",
      "(2833.0,)\n",
      "(2833.0,)\n",
      "(1500.0,)\n",
      "(1000.0,)\n",
      "(800.0,)\n",
      "(800.0,)\n",
      "(700.0,)\n",
      "(2000.0,)\n",
      "(1500.0,)\n"
     ]
    }
   ],
   "source": [
    "query_18 = '''\n",
    "SELECT round(salary *2/12,2)\n",
    "FROM employees\n",
    "'''\n",
    "    \n",
    "cur.execute(query_18)\n",
    "for c in cur.fetchmany(10):\n",
    "    print(c)"
   ]
  },
  {
   "cell_type": "markdown",
   "metadata": {},
   "source": [
    "+ Write a query to display the names (first_name, last_name) and salary for all employees whose salary is not in the range $10,000 through $15,000 on the table \"employees\"  "
   ]
  },
  {
   "cell_type": "code",
   "execution_count": 25,
   "metadata": {},
   "outputs": [
    {
     "name": "stdout",
     "output_type": "stream",
     "text": [
      "('Steven', 'King', 24000)\n",
      "('Neena', 'Kochhar', 17000)\n",
      "('Lex', 'De Haan', 17000)\n",
      "('Alexander', 'Hunold', 9000)\n",
      "('Bruce', 'Ernst', 6000)\n",
      "('David', 'Austin', 4800)\n",
      "('Valli', 'Pataballa', 4800)\n",
      "('Diana', 'Lorentz', 4200)\n",
      "('Daniel', 'Faviet', 9000)\n",
      "('John', 'Chen', 8200)\n"
     ]
    }
   ],
   "source": [
    "query_19 = '''\n",
    "SELECT first_name, last_name, salary\n",
    "FROM employees\n",
    "WHERE salary NOT BETWEEN 10000 AND 15000\n",
    "'''\n",
    "    \n",
    "cur.execute(query_19)\n",
    "for c in cur.fetchmany(10):\n",
    "    print(c)"
   ]
  },
  {
   "cell_type": "markdown",
   "metadata": {},
   "source": [
    "+ Write a query to display the names (first_name, last_name) and department ID of all employees in departments 30 or 100 in ascending alphabetical order by department ID on the table \"employees\"  "
   ]
  },
  {
   "cell_type": "code",
   "execution_count": 26,
   "metadata": {},
   "outputs": [
    {
     "name": "stdout",
     "output_type": "stream",
     "text": [
      "('Den', 'Raphaely', 30)\n",
      "('Alexander', 'Khoo', 30)\n",
      "('Shelli', 'Baida', 30)\n",
      "('Sigal', 'Tobias', 30)\n",
      "('Guy', 'Himuro', 30)\n",
      "('Karen', 'Colmenares', 30)\n",
      "('Nancy', 'Greenberg', 100)\n",
      "('Daniel', 'Faviet', 100)\n",
      "('John', 'Chen', 100)\n",
      "('Ismael', 'Sciarra', 100)\n",
      "('Jose Manuel', 'Urman', 100)\n",
      "('Luis', 'Popp', 100)\n"
     ]
    }
   ],
   "source": [
    "query_20 = '''\n",
    "SELECT first_name, last_name, department_id\n",
    "FROM employees\n",
    "WHERE department_id = 30 OR department_id = 100\n",
    "ORDER BY department_id ASC\n",
    "'''\n",
    "    \n",
    "cur.execute(query_20)\n",
    "for c in cur.fetchall():\n",
    "    print(c)"
   ]
  },
  {
   "cell_type": "markdown",
   "metadata": {},
   "source": [
    "+ Write a query to display the names (first_name, last_name) and salary for all employees whose salary is not in the range $10,000 through $15,000 and are in department 30 or 100 on the table \"employees\"  "
   ]
  },
  {
   "cell_type": "code",
   "execution_count": 27,
   "metadata": {},
   "outputs": [
    {
     "name": "stdout",
     "output_type": "stream",
     "text": [
      "('Daniel', 'Faviet', 9000)\n",
      "('John', 'Chen', 8200)\n",
      "('Ismael', 'Sciarra', 7700)\n",
      "('Jose Manuel', 'Urman', 7800)\n",
      "('Luis', 'Popp', 6900)\n",
      "('Alexander', 'Khoo', 3100)\n",
      "('Shelli', 'Baida', 2900)\n",
      "('Sigal', 'Tobias', 2800)\n",
      "('Guy', 'Himuro', 2600)\n",
      "('Karen', 'Colmenares', 2500)\n"
     ]
    }
   ],
   "source": [
    "query_21 = '''\n",
    "SELECT first_name, last_name, salary\n",
    "FROM employees\n",
    "WHERE (department_id = 30 OR department_id = 100) \n",
    "AND (salary NOT BETWEEN 10000 AND 15000)\n",
    "'''\n",
    "    \n",
    "cur.execute(query_21)\n",
    "for c in cur.fetchall():\n",
    "    print(c)"
   ]
  },
  {
   "cell_type": "markdown",
   "metadata": {},
   "source": [
    "+ Write a query to display the first_name of all employees who have both an \"b\" and \"c\" in their first name. on the table \"employees\"  "
   ]
  },
  {
   "cell_type": "code",
   "execution_count": 28,
   "metadata": {},
   "outputs": [
    {
     "name": "stdout",
     "output_type": "stream",
     "text": [
      "('Bruce',)\n"
     ]
    }
   ],
   "source": [
    "query_22 = '''\n",
    "SELECT first_name\n",
    "FROM employees\n",
    "WHERE first_name LIKE '%b%' \n",
    "AND first_name LIKE '%c%'\n",
    "'''\n",
    "    \n",
    "cur.execute(query_22)\n",
    "for c in cur.fetchall():\n",
    "    print(c)"
   ]
  },
  {
   "cell_type": "markdown",
   "metadata": {},
   "source": [
    "+ Write a query to display the last name, job, and salary for all employees whose job is that of a Programmer or a Shipping Clerk, and whose salary is not equal to $4,500, $10,000, or $15,000 on the table \"employees\"  "
   ]
  },
  {
   "cell_type": "code",
   "execution_count": 29,
   "metadata": {},
   "outputs": [
    {
     "name": "stdout",
     "output_type": "stream",
     "text": [
      "('Hunold', 'IT_PROG', 9000)\n",
      "('Ernst', 'IT_PROG', 6000)\n",
      "('Austin', 'IT_PROG', 4800)\n",
      "('Pataballa', 'IT_PROG', 4800)\n",
      "('Lorentz', 'IT_PROG', 4200)\n",
      "('Taylor', 'SH_CLERK', 3200)\n",
      "('Fleaur', 'SH_CLERK', 3100)\n",
      "('Sullivan', 'SH_CLERK', 2500)\n",
      "('Geoni', 'SH_CLERK', 2800)\n",
      "('Sarchand', 'SH_CLERK', 4200)\n",
      "('Bull', 'SH_CLERK', 4100)\n",
      "('Dellinger', 'SH_CLERK', 3400)\n",
      "('Cabrio', 'SH_CLERK', 3000)\n",
      "('Chung', 'SH_CLERK', 3800)\n",
      "('Dilly', 'SH_CLERK', 3600)\n",
      "('Gates', 'SH_CLERK', 2900)\n",
      "('Perkins', 'SH_CLERK', 2500)\n",
      "('Bell', 'SH_CLERK', 4000)\n",
      "('Everett', 'SH_CLERK', 3900)\n",
      "('McCain', 'SH_CLERK', 3200)\n",
      "('Jones', 'SH_CLERK', 2800)\n",
      "('Walsh', 'SH_CLERK', 3100)\n",
      "('Feeney', 'SH_CLERK', 3000)\n",
      "('OConnell', 'SH_CLERK', 2600)\n",
      "('Grant', 'SH_CLERK', 2600)\n"
     ]
    }
   ],
   "source": [
    "query_23 = '''\n",
    "SELECT last_name, job_id, salary\n",
    "FROM employees\n",
    "WHERE job_id IN\n",
    "(SELECT job_id\n",
    "FROM jobs\n",
    "WHERE job_title = 'Programmer' OR job_title = 'Shipping Clerk')\n",
    "AND salary NOT IN (4500,10000,15000)\n",
    "'''\n",
    "    \n",
    "cur.execute(query_23)\n",
    "for c in cur.fetchall():\n",
    "    print(c)"
   ]
  },
  {
   "cell_type": "markdown",
   "metadata": {},
   "source": [
    "+ Write a query to display the last names of employees whose names have exactly 6 characters on the table \"employees\"  "
   ]
  },
  {
   "cell_type": "code",
   "execution_count": 30,
   "metadata": {},
   "outputs": [
    {
     "name": "stdout",
     "output_type": "stream",
     "text": [
      "('Hunold',)\n",
      "('Austin',)\n",
      "('Faviet',)\n",
      "('Tobias',)\n",
      "('Himuro',)\n",
      "('Landry',)\n",
      "('Markle',)\n",
      "('Bissot',)\n",
      "('Marlow',)\n",
      "('Mallin',)\n"
     ]
    }
   ],
   "source": [
    "query_24 = '''\n",
    "SELECT last_name\n",
    "FROM employees\n",
    "WHERE length(last_name)=6\n",
    "'''\n",
    "    \n",
    "cur.execute(query_24)\n",
    "for c in cur.fetchmany(10):\n",
    "    print(c)"
   ]
  },
  {
   "cell_type": "markdown",
   "metadata": {},
   "source": [
    "+ Write a query to display the last names of employees having 'e' as the third character on the table \"employees\"  "
   ]
  },
  {
   "cell_type": "code",
   "execution_count": 31,
   "metadata": {},
   "outputs": [
    {
     "name": "stdout",
     "output_type": "stream",
     "text": [
      "('Greenberg',)\n",
      "('Chen',)\n",
      "('Gee',)\n",
      "('McEwen',)\n",
      "('Greene',)\n",
      "('Lee',)\n",
      "('Ozer',)\n",
      "('Abel',)\n",
      "('Fleaur',)\n",
      "('Everett',)\n",
      "('Feeney',)\n",
      "('Baer',)\n",
      "('Gietz',)\n"
     ]
    }
   ],
   "source": [
    "query_25 = '''\n",
    "SELECT last_name\n",
    "FROM employees\n",
    "WHERE last_name LIKE '__e%'\n",
    "'''\n",
    "    \n",
    "cur.execute(query_25)\n",
    "for c in cur.fetchall():\n",
    "    print(c)"
   ]
  },
  {
   "cell_type": "markdown",
   "metadata": {},
   "source": [
    "+ Write a query to display the jobs/designations available in the employees table on the table \"employees\"  "
   ]
  },
  {
   "cell_type": "code",
   "execution_count": 32,
   "metadata": {},
   "outputs": [
    {
     "name": "stdout",
     "output_type": "stream",
     "text": [
      "('AD_PRES',)\n",
      "('AD_VP',)\n",
      "('IT_PROG',)\n",
      "('FI_MGR',)\n",
      "('FI_ACCOUNT',)\n",
      "('PU_MAN',)\n",
      "('PU_CLERK',)\n",
      "('ST_MAN',)\n",
      "('ST_CLERK',)\n",
      "('SA_MAN',)\n",
      "('SA_REP',)\n",
      "('SH_CLERK',)\n",
      "('AD_ASST',)\n",
      "('MK_MAN',)\n",
      "('MK_REP',)\n",
      "('HR_REP',)\n",
      "('PR_REP',)\n",
      "('AC_MGR',)\n",
      "('AC_ACCOUNT',)\n"
     ]
    }
   ],
   "source": [
    "query_26 = '''\n",
    "SELECT DISTINCT job_id\n",
    "FROM employees\n",
    "'''\n",
    "    \n",
    "cur.execute(query_26)\n",
    "for c in cur.fetchall():\n",
    "    print(c)"
   ]
  },
  {
   "cell_type": "markdown",
   "metadata": {},
   "source": [
    "+ Write a query to display the names (first_name, last_name), salary and PF (15% of salary) of all employees on the table \"employees\"  "
   ]
  },
  {
   "cell_type": "code",
   "execution_count": 33,
   "metadata": {},
   "outputs": [
    {
     "name": "stdout",
     "output_type": "stream",
     "text": [
      "('Steven', 'King', 24000, 3600.0)\n",
      "('Neena', 'Kochhar', 17000, 2550.0)\n",
      "('Lex', 'De Haan', 17000, 2550.0)\n",
      "('Alexander', 'Hunold', 9000, 1350.0)\n",
      "('Bruce', 'Ernst', 6000, 900.0)\n",
      "('David', 'Austin', 4800, 720.0)\n",
      "('Valli', 'Pataballa', 4800, 720.0)\n",
      "('Diana', 'Lorentz', 4200, 630.0)\n",
      "('Nancy', 'Greenberg', 12000, 1800.0)\n",
      "('Daniel', 'Faviet', 9000, 1350.0)\n"
     ]
    }
   ],
   "source": [
    "query_27 = '''\n",
    "SELECT first_name, last_name, salary, salary *.15 AS PF\n",
    "FROM employees\n",
    "'''\n",
    "    \n",
    "cur.execute(query_27)\n",
    "for c in cur.fetchmany(10):\n",
    "    print(c)"
   ]
  },
  {
   "cell_type": "markdown",
   "metadata": {},
   "source": [
    "+ Write a query to list the number of jobs available in the employees table."
   ]
  },
  {
   "cell_type": "code",
   "execution_count": 34,
   "metadata": {},
   "outputs": [
    {
     "name": "stdout",
     "output_type": "stream",
     "text": [
      "19\n"
     ]
    }
   ],
   "source": [
    "query_28 = '''\n",
    "SELECT  COUNT(DISTINCT job_id)\n",
    "FROM employees\n",
    "'''\n",
    "    \n",
    "cur.execute(query_28)\n",
    "for c in cur.fetchone():\n",
    "    print(c)"
   ]
  },
  {
   "cell_type": "markdown",
   "metadata": {},
   "source": [
    "+ Write a query to get the total salaries payable to employees."
   ]
  },
  {
   "cell_type": "code",
   "execution_count": 35,
   "metadata": {},
   "outputs": [
    {
     "name": "stdout",
     "output_type": "stream",
     "text": [
      "691400\n"
     ]
    }
   ],
   "source": [
    "query_29 = '''\n",
    "SELECT  SUM (salary)\n",
    "FROM employees\n",
    "'''\n",
    "    \n",
    "cur.execute(query_29)\n",
    "for c in cur.fetchone():\n",
    "    print(c)"
   ]
  },
  {
   "cell_type": "markdown",
   "metadata": {},
   "source": [
    "+ Write a query to get the minimum salary from employees table."
   ]
  },
  {
   "cell_type": "code",
   "execution_count": 36,
   "metadata": {},
   "outputs": [
    {
     "name": "stdout",
     "output_type": "stream",
     "text": [
      "2100\n"
     ]
    }
   ],
   "source": [
    "query_30 = '''\n",
    "SELECT  MIN (salary)\n",
    "FROM employees\n",
    "'''\n",
    "    \n",
    "cur.execute(query_30)\n",
    "for c in cur.fetchone():\n",
    "    print(c)"
   ]
  },
  {
   "cell_type": "markdown",
   "metadata": {},
   "source": [
    "+ Write a query to get the maximum salary of an employee working as a Programmer."
   ]
  },
  {
   "cell_type": "code",
   "execution_count": 37,
   "metadata": {},
   "outputs": [
    {
     "name": "stdout",
     "output_type": "stream",
     "text": [
      "9000\n"
     ]
    }
   ],
   "source": [
    "query_31 = '''\n",
    "SELECT  MAX (salary)\n",
    "FROM employees\n",
    "WHERE job_id = \n",
    "(SELECT job_id\n",
    "FROM jobs\n",
    "WHERE job_title = 'Programmer')\n",
    "'''\n",
    "    \n",
    "cur.execute(query_31)\n",
    "for c in cur.fetchone():\n",
    "    print(c)"
   ]
  },
  {
   "cell_type": "markdown",
   "metadata": {},
   "source": [
    "+ Write a query to get the average salary and number of employees working the department 90."
   ]
  },
  {
   "cell_type": "code",
   "execution_count": 38,
   "metadata": {},
   "outputs": [
    {
     "name": "stdout",
     "output_type": "stream",
     "text": [
      "(19333.333333333332, 3)\n"
     ]
    }
   ],
   "source": [
    "query_32 = '''\n",
    "SELECT  AVG (salary), COUNT (employee_id)\n",
    "FROM employees\n",
    "WHERE department_id = 90\n",
    "'''\n",
    "    \n",
    "cur.execute(query_32)\n",
    "for c in cur.fetchall():\n",
    "    print(c)"
   ]
  },
  {
   "cell_type": "markdown",
   "metadata": {},
   "source": [
    "+ Write a query to get the highest, lowest, sum, and average salary of all employees."
   ]
  },
  {
   "cell_type": "code",
   "execution_count": 39,
   "metadata": {},
   "outputs": [
    {
     "name": "stdout",
     "output_type": "stream",
     "text": [
      "24000\n",
      "2100\n",
      "691400\n",
      "6461.682242990654\n"
     ]
    }
   ],
   "source": [
    "query_33 = '''\n",
    "SELECT  MAX (salary), MIN (salary), SUM (salary), AVG(salary)\n",
    "FROM employees\n",
    "'''\n",
    "    \n",
    "cur.execute(query_33)\n",
    "for c in cur.fetchone():\n",
    "    print(c)"
   ]
  },
  {
   "cell_type": "markdown",
   "metadata": {},
   "source": [
    "+ Write a query to get the number of employees with the same job."
   ]
  },
  {
   "cell_type": "code",
   "execution_count": 40,
   "metadata": {},
   "outputs": [
    {
     "name": "stdout",
     "output_type": "stream",
     "text": [
      "(1,)\n",
      "(1,)\n",
      "(1,)\n",
      "(1,)\n",
      "(2,)\n",
      "(5,)\n",
      "(1,)\n",
      "(1,)\n",
      "(5,)\n",
      "(1,)\n",
      "(1,)\n",
      "(1,)\n",
      "(5,)\n",
      "(1,)\n",
      "(5,)\n",
      "(30,)\n",
      "(20,)\n",
      "(20,)\n",
      "(5,)\n"
     ]
    }
   ],
   "source": [
    "query_34 = '''\n",
    "SELECT  COUNT(employee_id)\n",
    "FROM employees\n",
    "GROUP BY job_id\n",
    "'''\n",
    "    \n",
    "cur.execute(query_34)\n",
    "for c in cur.fetchall():\n",
    "    print(c)"
   ]
  },
  {
   "cell_type": "markdown",
   "metadata": {},
   "source": [
    "+ Write a query to get the difference between the highest and lowest salaries."
   ]
  },
  {
   "cell_type": "code",
   "execution_count": 41,
   "metadata": {},
   "outputs": [
    {
     "name": "stdout",
     "output_type": "stream",
     "text": [
      "21900\n"
     ]
    }
   ],
   "source": [
    "query_35 = '''\n",
    "SELECT  (MAX(salary)-MIN(salary))\n",
    "FROM employees\n",
    "'''\n",
    "    \n",
    "cur.execute(query_35)\n",
    "for c in cur.fetchone():\n",
    "    print(c)"
   ]
  },
  {
   "cell_type": "markdown",
   "metadata": {},
   "source": [
    "+ Write a query to find the manager ID and the salary of the lowest-paid employee for that manager."
   ]
  },
  {
   "cell_type": "code",
   "execution_count": 42,
   "metadata": {},
   "outputs": [
    {
     "name": "stdout",
     "output_type": "stream",
     "text": [
      "(0, 24000)\n",
      "(100, 5800)\n",
      "(101, 4400)\n",
      "(102, 9000)\n",
      "(103, 4200)\n",
      "(108, 6900)\n",
      "(114, 2500)\n",
      "(120, 2200)\n",
      "(121, 2100)\n",
      "(122, 2200)\n",
      "(123, 2500)\n",
      "(124, 2500)\n",
      "(145, 7000)\n",
      "(146, 7000)\n",
      "(147, 6200)\n",
      "(148, 6100)\n",
      "(149, 6200)\n",
      "(201, 6000)\n",
      "(205, 8300)\n"
     ]
    }
   ],
   "source": [
    "query_36 = '''\n",
    "SELECT  manager_id, MIN(salary)\n",
    "FROM employees\n",
    "GROUP BY manager_id\n",
    "'''\n",
    "    \n",
    "cur.execute(query_36)\n",
    "for c in cur.fetchall():\n",
    "    print(c)"
   ]
  },
  {
   "cell_type": "markdown",
   "metadata": {},
   "source": [
    "+ Write a query to get the department ID and the total salary payable in each department."
   ]
  },
  {
   "cell_type": "code",
   "execution_count": 43,
   "metadata": {},
   "outputs": [
    {
     "name": "stdout",
     "output_type": "stream",
     "text": [
      "(0, 7000)\n",
      "(10, 4400)\n",
      "(20, 19000)\n",
      "(30, 24900)\n",
      "(40, 6500)\n",
      "(50, 156400)\n",
      "(60, 28800)\n",
      "(70, 10000)\n",
      "(80, 304500)\n",
      "(90, 58000)\n",
      "(100, 51600)\n",
      "(110, 20300)\n"
     ]
    }
   ],
   "source": [
    "query_37 = '''\n",
    "SELECT  department_id, SUM(salary)\n",
    "FROM employees\n",
    "GROUP BY department_id\n",
    "'''\n",
    "    \n",
    "cur.execute(query_37)\n",
    "for c in cur.fetchall():\n",
    "    print(c)"
   ]
  },
  {
   "cell_type": "markdown",
   "metadata": {},
   "source": [
    "+ Write a query to get the average salary for each job ID excluding programmer."
   ]
  },
  {
   "cell_type": "code",
   "execution_count": 44,
   "metadata": {},
   "outputs": [
    {
     "name": "stdout",
     "output_type": "stream",
     "text": [
      "(7000.0,)\n",
      "(4400.0,)\n",
      "(9500.0,)\n",
      "(4150.0,)\n",
      "(6500.0,)\n",
      "(3475.5555555555557,)\n",
      "(10000.0,)\n",
      "(8955.882352941177,)\n",
      "(19333.333333333332,)\n",
      "(8600.0,)\n",
      "(10150.0,)\n"
     ]
    }
   ],
   "source": [
    "query_38 = '''\n",
    "SELECT  AVG (salary)\n",
    "FROM employees\n",
    "WHERE job_id != \n",
    "(SELECT job_id \n",
    "FROM jobs\n",
    "WHERE job_title='Programmer')\n",
    "GROUP BY department_id\n",
    "'''\n",
    "    \n",
    "cur.execute(query_38)\n",
    "for c in cur.fetchall():\n",
    "    print(c)"
   ]
  },
  {
   "cell_type": "markdown",
   "metadata": {},
   "source": [
    "+ Write a query to get the total salary, maximum, minimum, average salary of employees (job ID wise), for department ID 90 only."
   ]
  },
  {
   "cell_type": "code",
   "execution_count": 45,
   "metadata": {},
   "outputs": [
    {
     "name": "stdout",
     "output_type": "stream",
     "text": [
      "(58000, 24000, 17000, 19333.333333333332)\n"
     ]
    }
   ],
   "source": [
    "query_39 = '''\n",
    "SELECT  SUM(salary), MAX(salary), MIN(salary), AVG(salary)\n",
    "FROM employees\n",
    "WHERE department_id = 90\n",
    "'''\n",
    "    \n",
    "cur.execute(query_39)\n",
    "for c in cur.fetchall():\n",
    "    print(c)"
   ]
  },
  {
   "cell_type": "markdown",
   "metadata": {},
   "source": [
    "+ Write a query to get the job ID and maximum salary of the employees where maximum salary is greater than or equal to $4000. "
   ]
  },
  {
   "cell_type": "code",
   "execution_count": 46,
   "metadata": {},
   "outputs": [
    {
     "name": "stdout",
     "output_type": "stream",
     "text": [
      "('AC_ACCOUNT', 8300)\n",
      "('AC_MGR', 12000)\n",
      "('AD_ASST', 4400)\n",
      "('AD_PRES', 24000)\n",
      "('AD_VP', 17000)\n",
      "('FI_ACCOUNT', 9000)\n",
      "('FI_MGR', 12000)\n",
      "('HR_REP', 6500)\n",
      "('IT_PROG', 9000)\n",
      "('MK_MAN', 13000)\n",
      "('MK_REP', 6000)\n",
      "('PR_REP', 10000)\n",
      "('PU_MAN', 11000)\n",
      "('SA_MAN', 14000)\n",
      "('SA_REP', 11500)\n",
      "('SH_CLERK', 4200)\n",
      "('ST_MAN', 8200)\n"
     ]
    }
   ],
   "source": [
    "query_40 = '''\n",
    "SELECT  job_id, MAX(salary)\n",
    "FROM employees\n",
    "GROUP BY job_id\n",
    "HAVING MAX(salary)>= 4000\n",
    "'''\n",
    "    \n",
    "cur.execute(query_40)\n",
    "for c in cur.fetchall():\n",
    "    print(c)"
   ]
  },
  {
   "cell_type": "markdown",
   "metadata": {},
   "source": [
    "+ Write a query to get the average salary for all departments employing more than 10 employees."
   ]
  },
  {
   "cell_type": "code",
   "execution_count": 47,
   "metadata": {},
   "outputs": [
    {
     "name": "stdout",
     "output_type": "stream",
     "text": [
      "(3475.5555555555557, 45)\n",
      "(8955.882352941177, 34)\n"
     ]
    }
   ],
   "source": [
    "query_41 = '''\n",
    "SELECT  AVG(salary), COUNT (department_id)\n",
    "FROM employees\n",
    "GROUP BY department_id\n",
    "HAVING COUNT (department_id) >= 10\n",
    "'''\n",
    "    \n",
    "cur.execute(query_41)\n",
    "for c in cur.fetchall():\n",
    "    print(c)"
   ]
  },
  {
   "cell_type": "markdown",
   "metadata": {},
   "source": [
    "+ Write a query to find the names (first_name, last_name) and salaries of the employees who have a higher salary than the employee whose last_name='Bull'."
   ]
  },
  {
   "cell_type": "code",
   "execution_count": 48,
   "metadata": {},
   "outputs": [
    {
     "name": "stdout",
     "output_type": "stream",
     "text": [
      "('Steven', 'King', 24000)\n",
      "('Neena', 'Kochhar', 17000)\n",
      "('Lex', 'De Haan', 17000)\n",
      "('Alexander', 'Hunold', 9000)\n",
      "('Bruce', 'Ernst', 6000)\n",
      "('David', 'Austin', 4800)\n",
      "('Valli', 'Pataballa', 4800)\n",
      "('Diana', 'Lorentz', 4200)\n",
      "('Nancy', 'Greenberg', 12000)\n",
      "('Daniel', 'Faviet', 9000)\n"
     ]
    }
   ],
   "source": [
    "query_42 = '''\n",
    "SELECT  first_name, last_name, salary\n",
    "FROM employees\n",
    "WHERE salary > \n",
    "(SELECT salary \n",
    "FROM employees\n",
    "WHERE last_name = \"Bull\")\n",
    "'''\n",
    "    \n",
    "cur.execute(query_42)\n",
    "for c in cur.fetchmany(10):\n",
    "    print(c)"
   ]
  },
  {
   "cell_type": "markdown",
   "metadata": {},
   "source": [
    "+ Write a query to find the names (first_name, last_name) of all employees who works in the IT department."
   ]
  },
  {
   "cell_type": "code",
   "execution_count": 49,
   "metadata": {},
   "outputs": [
    {
     "name": "stdout",
     "output_type": "stream",
     "text": [
      "('Alexander', 'Hunold')\n",
      "('Bruce', 'Ernst')\n",
      "('David', 'Austin')\n",
      "('Valli', 'Pataballa')\n",
      "('Diana', 'Lorentz')\n"
     ]
    }
   ],
   "source": [
    "query_43 = '''\n",
    "SELECT first_name, last_name \n",
    "FROM employees\n",
    "WHERE department_id = \n",
    "(SELECT department_id\n",
    "FROM departments\n",
    "WHERE depart_name = \"IT\")\n",
    "'''\n",
    "    \n",
    "cur.execute(query_43)\n",
    "for c in cur.fetchmany(10):\n",
    "    print(c)"
   ]
  },
  {
   "cell_type": "markdown",
   "metadata": {},
   "source": [
    "+ Write a query to find the names (first_name, last_name) of the employees who have a manager who works for a department based in the United States. Hint : Write single-row and multiple-row subqueries"
   ]
  },
  {
   "cell_type": "code",
   "execution_count": 50,
   "metadata": {},
   "outputs": [
    {
     "name": "stdout",
     "output_type": "stream",
     "text": [
      "('Neena', 'Kochhar')\n",
      "('Lex', 'De Haan')\n",
      "('Bruce', 'Ernst')\n",
      "('David', 'Austin')\n",
      "('Valli', 'Pataballa')\n",
      "('Diana', 'Lorentz')\n",
      "('Daniel', 'Faviet')\n",
      "('John', 'Chen')\n",
      "('Ismael', 'Sciarra')\n",
      "('Jose Manuel', 'Urman')\n"
     ]
    }
   ],
   "source": [
    "query_44 = '''\n",
    "SELECT first_name, last_name\n",
    "FROM employees\n",
    "WHERE manager_id IN \n",
    "(SELECT manager_id\n",
    "FROM departments\n",
    "WHERE location_id IN \n",
    "(SELECT location_id\n",
    "FROM locations\n",
    "WHERE country_id =\n",
    "(SELECT country_id\n",
    "FROM countries\n",
    "WHERE country_name LIKE '%United States%')\n",
    "))\n",
    "'''\n",
    "    \n",
    "cur.execute(query_44)\n",
    "for c in cur.fetchmany(10):\n",
    "    print(c)"
   ]
  },
  {
   "cell_type": "markdown",
   "metadata": {},
   "source": [
    "+ Write a query to find the names (first_name, last_name) of the employees who are managers. "
   ]
  },
  {
   "cell_type": "code",
   "execution_count": 51,
   "metadata": {},
   "outputs": [
    {
     "name": "stdout",
     "output_type": "stream",
     "text": [
      "('Steven', 'King')\n",
      "('Neena', 'Kochhar')\n",
      "('Lex', 'De Haan')\n",
      "('Alexander', 'Hunold')\n",
      "('Nancy', 'Greenberg')\n",
      "('Den', 'Raphaely')\n",
      "('Matthew', 'Weiss')\n",
      "('Adam', 'Fripp')\n",
      "('Payam', 'Kaufling')\n",
      "('Shanta', 'Vollman')\n",
      "('Kevin', 'Mourgos')\n",
      "('John', 'Russell')\n",
      "('Karen', 'Partners')\n",
      "('Alberto', 'Errazuriz')\n",
      "('Gerald', 'Cambrault')\n",
      "('Eleni', 'Zlotkey')\n",
      "('Michael', 'Hartstein')\n",
      "('Shelley', 'Higgins')\n"
     ]
    }
   ],
   "source": [
    "query_45 = '''\n",
    "SELECT first_name, last_name\n",
    "FROM employees\n",
    "WHERE employee_id IN \n",
    "(SELECT manager_id\n",
    "FROM employees)\n",
    "'''\n",
    "    \n",
    "cur.execute(query_45)\n",
    "for c in cur.fetchall():\n",
    "    print(c)"
   ]
  },
  {
   "cell_type": "markdown",
   "metadata": {},
   "source": [
    "+ Write a query to find the names (first_name, last_name), the salary of the employees whose salary is greater than the average salary."
   ]
  },
  {
   "cell_type": "code",
   "execution_count": 52,
   "metadata": {},
   "outputs": [
    {
     "name": "stdout",
     "output_type": "stream",
     "text": [
      "('Steven', 'King', 24000)\n",
      "('Neena', 'Kochhar', 17000)\n",
      "('Lex', 'De Haan', 17000)\n",
      "('Alexander', 'Hunold', 9000)\n",
      "('Nancy', 'Greenberg', 12000)\n",
      "('Daniel', 'Faviet', 9000)\n",
      "('John', 'Chen', 8200)\n",
      "('Ismael', 'Sciarra', 7700)\n",
      "('Jose Manuel', 'Urman', 7800)\n",
      "('Luis', 'Popp', 6900)\n"
     ]
    }
   ],
   "source": [
    "query_46 = '''\n",
    "SELECT first_name, last_name, salary\n",
    "FROM employees\n",
    "WHERE salary > \n",
    "(SELECT AVG(salary)\n",
    "FROM employees)\n",
    "'''\n",
    "    \n",
    "cur.execute(query_46)\n",
    "for c in cur.fetchmany(10):\n",
    "    print(c)"
   ]
  },
  {
   "cell_type": "markdown",
   "metadata": {},
   "source": [
    "+ Write a query to find the names (first_name, last_name), the salary of the employees whose salary is equal to the minimum salary for their job grade."
   ]
  },
  {
   "cell_type": "code",
   "execution_count": 53,
   "metadata": {},
   "outputs": [
    {
     "name": "stdout",
     "output_type": "stream",
     "text": [
      "('Karen', 'Colmenares', 2500)\n",
      "('Martha', 'Sullivan', 2500)\n",
      "('Randall', 'Perkins', 2500)\n"
     ]
    }
   ],
   "source": [
    "query_47 = '''\n",
    "SELECT first_name, last_name, salary\n",
    "FROM employees AS e\n",
    "INNER JOIN jobs AS j on j.job_id = e.job_id\n",
    "WHERE e.salary = j.min_salary\n",
    "'''\n",
    "    \n",
    "cur.execute(query_47)\n",
    "for c in cur.fetchmany(10):\n",
    "    print(c)"
   ]
  },
  {
   "cell_type": "markdown",
   "metadata": {},
   "source": [
    "+ Write a query to find the names (first_name, last_name), the salary of the employees who earn more than the average salary and who works in any of the IT departments."
   ]
  },
  {
   "cell_type": "code",
   "execution_count": 54,
   "metadata": {},
   "outputs": [
    {
     "name": "stdout",
     "output_type": "stream",
     "text": [
      "('Alexander', 'Hunold', 9000)\n"
     ]
    }
   ],
   "source": [
    "query_48 = '''\n",
    "SELECT first_name, last_name, salary\n",
    "FROM employees \n",
    "WHERE salary > \n",
    "(SELECT AVG(salary)\n",
    "FROM employees\n",
    ") AND (department_id IN\n",
    "(SELECT department_id\n",
    "FROM departments\n",
    "WHERE depart_name LIKE \"%IT%\"))\n",
    "'''\n",
    "    \n",
    "cur.execute(query_48)\n",
    "for c in cur.fetchmany(10):\n",
    "    print(c)"
   ]
  },
  {
   "cell_type": "markdown",
   "metadata": {},
   "source": [
    "+ Write a query to find the names (first_name, last_name), the salary of the employees who earn more than Mr. Bell. "
   ]
  },
  {
   "cell_type": "code",
   "execution_count": 55,
   "metadata": {},
   "outputs": [
    {
     "name": "stdout",
     "output_type": "stream",
     "text": [
      "('Steven', 'King', 24000)\n",
      "('Neena', 'Kochhar', 17000)\n",
      "('Lex', 'De Haan', 17000)\n",
      "('Alexander', 'Hunold', 9000)\n",
      "('Bruce', 'Ernst', 6000)\n",
      "('David', 'Austin', 4800)\n",
      "('Valli', 'Pataballa', 4800)\n",
      "('Diana', 'Lorentz', 4200)\n",
      "('Nancy', 'Greenberg', 12000)\n",
      "('Daniel', 'Faviet', 9000)\n"
     ]
    }
   ],
   "source": [
    "query_49 = '''\n",
    "SELECT first_name, last_name, salary\n",
    "FROM employees \n",
    "WHERE salary >\n",
    "(SELECT salary\n",
    "FROM employees\n",
    "WHERE last_name = 'Bell')\n",
    "'''\n",
    "    \n",
    "cur.execute(query_49)\n",
    "for c in cur.fetchmany(10):\n",
    "    print(c)"
   ]
  },
  {
   "cell_type": "markdown",
   "metadata": {},
   "source": [
    "+ Write a query to find the names (first_name, last_name), the salary of the employees who earn the same salary as the minimum salary for all departments. "
   ]
  },
  {
   "cell_type": "code",
   "execution_count": 56,
   "metadata": {},
   "outputs": [
    {
     "name": "stdout",
     "output_type": "stream",
     "text": [
      "('TJ', 'Olson', 2100)\n"
     ]
    }
   ],
   "source": [
    "query_50 = '''\n",
    "SELECT first_name, last_name, salary\n",
    "FROM employees \n",
    "WHERE salary = \n",
    "(SELECT MIN(salary)\n",
    "FROM employees)\n",
    "'''\n",
    "    \n",
    "cur.execute(query_50)\n",
    "for c in cur.fetchmany(10):\n",
    "    print(c)"
   ]
  },
  {
   "cell_type": "markdown",
   "metadata": {},
   "source": [
    "+ Write a query to find the names (first_name, last_name) of the employees who are not supervisors. "
   ]
  },
  {
   "cell_type": "code",
   "execution_count": 57,
   "metadata": {},
   "outputs": [
    {
     "name": "stdout",
     "output_type": "stream",
     "text": [
      "('Bruce', 'Ernst')\n",
      "('David', 'Austin')\n",
      "('Valli', 'Pataballa')\n",
      "('Diana', 'Lorentz')\n",
      "('Daniel', 'Faviet')\n",
      "('John', 'Chen')\n",
      "('Ismael', 'Sciarra')\n",
      "('Jose Manuel', 'Urman')\n",
      "('Luis', 'Popp')\n",
      "('Alexander', 'Khoo')\n"
     ]
    }
   ],
   "source": [
    "query_51 = '''\n",
    "SELECT first_name, last_name\n",
    "FROM employees \n",
    "WHERE employee_id NOT IN  \n",
    "(SELECT manager_id\n",
    "FROM employees)\n",
    "'''\n",
    "    \n",
    "cur.execute(query_51)\n",
    "for c in cur.fetchmany(10):\n",
    "    print(c)"
   ]
  },
  {
   "cell_type": "markdown",
   "metadata": {},
   "source": [
    "+ Write a query to display the employee ID, first name, last names, salary of all employees whose salary is above average for their departments."
   ]
  },
  {
   "cell_type": "code",
   "execution_count": 58,
   "metadata": {},
   "outputs": [
    {
     "name": "stdout",
     "output_type": "stream",
     "text": [
      "(20, 201, 'Michael', 'Hartstein', 13000)\n",
      "(30, 114, 'Den', 'Raphaely', 11000)\n",
      "(50, 120, 'Matthew', 'Weiss', 8000)\n",
      "(60, 103, 'Alexander', 'Hunold', 9000)\n",
      "(80, 145, 'John', 'Russell', 14000)\n",
      "(90, 100, 'Steven', 'King', 24000)\n",
      "(100, 108, 'Nancy', 'Greenberg', 12000)\n",
      "(110, 205, 'Shelley', 'Higgins', 12000)\n"
     ]
    }
   ],
   "source": [
    "query_52 = '''\n",
    "SELECT department_id, employee_id, first_name, last_name, salary\n",
    "FROM employees \n",
    "GROUP BY department_id\n",
    "HAVING salary > AVG (salary)\n",
    "'''\n",
    "    \n",
    "cur.execute(query_52)\n",
    "for c in cur.fetchall():\n",
    "    print(c)"
   ]
  },
  {
   "cell_type": "markdown",
   "metadata": {},
   "source": [
    "+ Write a query to find the 5th maximum salary in the employees table."
   ]
  },
  {
   "cell_type": "code",
   "execution_count": 59,
   "metadata": {},
   "outputs": [
    {
     "name": "stdout",
     "output_type": "stream",
     "text": [
      "(13500,)\n"
     ]
    }
   ],
   "source": [
    "query_53 = '''\n",
    "SELECT salary\n",
    "FROM employees \n",
    "ORDER BY salary DESC\n",
    "LIMIT 1 OFFSET 4\n",
    "'''\n",
    "    \n",
    "cur.execute(query_53)\n",
    "for c in cur.fetchall():\n",
    "    print(c)"
   ]
  },
  {
   "cell_type": "markdown",
   "metadata": {},
   "source": [
    "+ Write a query to find the 4th minimum salary in the employees table."
   ]
  },
  {
   "cell_type": "code",
   "execution_count": 60,
   "metadata": {},
   "outputs": [
    {
     "name": "stdout",
     "output_type": "stream",
     "text": [
      "(2400,)\n"
     ]
    }
   ],
   "source": [
    "query_54 = '''\n",
    "SELECT salary\n",
    "FROM employees \n",
    "ORDER BY salary ASC\n",
    "LIMIT 1 OFFSET 3\n",
    "'''\n",
    "    \n",
    "cur.execute(query_54)\n",
    "for c in cur.fetchall():\n",
    "    print(c)"
   ]
  },
  {
   "cell_type": "markdown",
   "metadata": {},
   "source": [
    "+ Write a query to select last 10 records from a table."
   ]
  },
  {
   "cell_type": "code",
   "execution_count": 61,
   "metadata": {},
   "outputs": [
    {
     "name": "stdout",
     "output_type": "stream",
     "text": [
      "(206, 'William', 'Gietz', 'WGIETZ', '515.123.8181', '1987-10-01', 'AC_ACCOUNT', 8300, 1, 205, 110, None)\n",
      "(205, 'Shelley', 'Higgins', 'SHIGGINS', '515.123.8080', '1987-09-30', 'AC_MGR', 12000, 1, 101, 110, None)\n",
      "(204, 'Hermann', 'Baer', 'HBAER', '515.123.8888', '1987-09-29', 'PR_REP', 10000, 0, 101, 70, None)\n",
      "(203, 'Susan', 'Mavris', 'SMAVRIS', '515.123.7777', '1987-09-28', 'HR_REP', 6500, 0, 101, 40, None)\n",
      "(202, 'Pat', 'Fay', 'PFAY', '603.123.6666', '1987-09-27', 'MK_REP', 6000, 0, 201, 20, None)\n",
      "(201, 'Michael', 'Hartstein', 'MHARTSTE', '515.123.5555', '1987-09-26', 'MK_MAN', 13000, 0, 100, 20, None)\n",
      "(200, 'Jennifer', 'Whalen', 'JWHALEN', '515.123.4444', '1987-09-25', 'AD_ASST', 4400, 0, 101, 10, None)\n",
      "(199, 'Douglas', 'Grant', 'DGRANT', '650.507.9844', '1987-09-24', 'SH_CLERK', 2600, 0, 124, 50, None)\n",
      "(198, 'Donald', 'OConnell', 'DOCONNEL', '650.507.9833', '1987-09-23', 'SH_CLERK', 2600, 0, 124, 50, None)\n",
      "(197, 'Kevin', 'Feeney', 'KFEENEY', '650.507.9822', '1987-09-22', 'SH_CLERK', 3000, 0, 124, 50, None)\n"
     ]
    }
   ],
   "source": [
    "query_55 = '''\n",
    "SELECT *\n",
    "FROM employees \n",
    "ORDER BY rowid DESC\n",
    "LIMIT 10\n",
    "'''\n",
    "    \n",
    "cur.execute(query_55)\n",
    "for c in cur.fetchall():\n",
    "    print(c)"
   ]
  },
  {
   "cell_type": "markdown",
   "metadata": {},
   "source": [
    "+ Write a query to list department number, name for all the departments in which there are no employees in the department."
   ]
  },
  {
   "cell_type": "code",
   "execution_count": 62,
   "metadata": {},
   "outputs": [
    {
     "name": "stdout",
     "output_type": "stream",
     "text": [
      "(120, 'Treasury')\n",
      "(130, 'Corporate Tax')\n",
      "(140, 'Control And Credit')\n",
      "(150, 'Shareholder Services')\n",
      "(160, 'Benefits')\n",
      "(170, 'Manufacturing')\n",
      "(180, 'Construction')\n",
      "(190, 'Contracting')\n",
      "(200, 'Operations')\n",
      "(210, 'IT Support')\n",
      "(220, 'NOC')\n",
      "(230, 'IT Helpdesk')\n",
      "(240, 'Government Sales')\n",
      "(250, 'Retail Sales')\n",
      "(260, 'Recruiting')\n",
      "(270, 'Payroll')\n"
     ]
    }
   ],
   "source": [
    "query_56 = '''\n",
    "SELECT department_id, depart_name\n",
    "FROM departments AS d\n",
    "GROUP BY department_id\n",
    "HAVING \n",
    "(SELECT COUNT(employee_id)\n",
    "FROM employees AS e\n",
    "WHERE d.department_id = e.department_id) = 0\n",
    "'''\n",
    "    \n",
    "cur.execute(query_56)\n",
    "for c in cur.fetchall():\n",
    "    print(c)"
   ]
  },
  {
   "cell_type": "markdown",
   "metadata": {},
   "source": [
    "+ Write a query to find the addresses (location_id, street_address, city, state_province, country_name) of all the departments."
   ]
  },
  {
   "cell_type": "code",
   "execution_count": 63,
   "metadata": {},
   "outputs": [
    {
     "name": "stdout",
     "output_type": "stream",
     "text": [
      "(1700, '2004 Charade Rd', 'Seattle', 'Washington', 'United States of America')\n",
      "(1800, '147 Spadina Ave', 'Toronto', 'Ontario', 'Canada')\n",
      "(1700, '2004 Charade Rd', 'Seattle', 'Washington', 'United States of America')\n",
      "(2400, '8204 Arthur St', 'London', '', 'United Kingdom')\n",
      "(1500, '2011 Interiors Blvd', 'South San Francisco', 'California', 'United States of America')\n",
      "(1400, '2014 Jabberwocky Rd', 'Southlake', 'Texas', 'United States of America')\n",
      "(2700, 'Schwanthalerstr. 7031', 'Munich', 'Bavaria', 'Germany')\n",
      "(2500, 'Magdalen Centre, The Oxford Science Park', 'Oxford', 'Oxford', 'United Kingdom')\n",
      "(1700, '2004 Charade Rd', 'Seattle', 'Washington', 'United States of America')\n",
      "(1700, '2004 Charade Rd', 'Seattle', 'Washington', 'United States of America')\n"
     ]
    }
   ],
   "source": [
    "query_57 = '''\n",
    "SELECT l.location_id, street_address, city, state_province, c.country_name\n",
    "FROM locations AS l\n",
    "INNER JOIN departments AS d on d.location_id = l.location_id\n",
    "INNER JOIN countries AS c on c.country_id = l.country_id\n",
    "'''\n",
    "    \n",
    "cur.execute(query_57)\n",
    "for c in cur.fetchmany(10):\n",
    "    print(c)"
   ]
  },
  {
   "cell_type": "markdown",
   "metadata": {},
   "source": [
    "+ Write a query to find the names (first_name, last name), department ID and the name of all the employees."
   ]
  },
  {
   "cell_type": "code",
   "execution_count": 64,
   "metadata": {},
   "outputs": [
    {
     "name": "stdout",
     "output_type": "stream",
     "text": [
      "('Steven', 'King', 90)\n",
      "('Neena', 'Kochhar', 90)\n",
      "('Lex', 'De Haan', 90)\n",
      "('Alexander', 'Hunold', 60)\n",
      "('Bruce', 'Ernst', 60)\n",
      "('David', 'Austin', 60)\n",
      "('Valli', 'Pataballa', 60)\n",
      "('Diana', 'Lorentz', 60)\n",
      "('Nancy', 'Greenberg', 100)\n",
      "('Daniel', 'Faviet', 100)\n"
     ]
    }
   ],
   "source": [
    "query_58 = '''\n",
    "SELECT first_name, last_name, department_id\n",
    "FROM employees\n",
    "'''\n",
    "    \n",
    "cur.execute(query_58)\n",
    "for c in cur.fetchmany(10):\n",
    "    print(c)"
   ]
  },
  {
   "cell_type": "markdown",
   "metadata": {},
   "source": [
    "+ Write a query to find the employee id, name (last_name) along with their manager_id, manager name (last_name)."
   ]
  },
  {
   "cell_type": "code",
   "execution_count": 65,
   "metadata": {},
   "outputs": [
    {
     "name": "stdout",
     "output_type": "stream",
     "text": [
      "(101, 'Kochhar', 100, 'King')\n",
      "(102, 'De Haan', 100, 'King')\n",
      "(103, 'Hunold', 102, 'De Haan')\n",
      "(104, 'Ernst', 103, 'Hunold')\n",
      "(105, 'Austin', 103, 'Hunold')\n",
      "(106, 'Pataballa', 103, 'Hunold')\n",
      "(107, 'Lorentz', 103, 'Hunold')\n",
      "(108, 'Greenberg', 101, 'Kochhar')\n",
      "(109, 'Faviet', 108, 'Greenberg')\n",
      "(110, 'Chen', 108, 'Greenberg')\n"
     ]
    }
   ],
   "source": [
    "query_59 = '''\n",
    "SELECT e.employee_id, e.last_name, e.manager_id, m.last_name\n",
    "FROM employees AS e\n",
    "INNER JOIN employees AS m on (e.manager_id = m.employee_id)\n",
    "'''\n",
    "    \n",
    "cur.execute(query_59)\n",
    "for c in cur.fetchmany(10):\n",
    "    print(c)"
   ]
  },
  {
   "cell_type": "markdown",
   "metadata": {},
   "source": [
    "+ Write a query to find the names (first_name, last_name) and hire date of the employees who were hired after 'Jones'."
   ]
  },
  {
   "cell_type": "code",
   "execution_count": 66,
   "metadata": {},
   "outputs": [
    {
     "name": "stdout",
     "output_type": "stream",
     "text": [
      "('Alana', 'Walsh', '1987-09-21')\n",
      "('Kevin', 'Feeney', '1987-09-22')\n",
      "('Donald', 'OConnell', '1987-09-23')\n",
      "('Douglas', 'Grant', '1987-09-24')\n",
      "('Jennifer', 'Whalen', '1987-09-25')\n",
      "('Michael', 'Hartstein', '1987-09-26')\n",
      "('Pat', 'Fay', '1987-09-27')\n",
      "('Susan', 'Mavris', '1987-09-28')\n",
      "('Hermann', 'Baer', '1987-09-29')\n",
      "('Shelley', 'Higgins', '1987-09-30')\n"
     ]
    }
   ],
   "source": [
    "query_60 = '''\n",
    "SELECT first_name, last_name, hire_date\n",
    "FROM employees \n",
    "WHERE hire_date > \n",
    "(SELECT hire_date\n",
    "FROM employees\n",
    "WHERE last_name LIKE '%Jones%')\n",
    "'''\n",
    "    \n",
    "cur.execute(query_60)\n",
    "for c in cur.fetchmany(10):\n",
    "    print(c)"
   ]
  },
  {
   "cell_type": "markdown",
   "metadata": {},
   "source": [
    "+ Write a query to get the department name and number of employees in the department."
   ]
  },
  {
   "cell_type": "code",
   "execution_count": 67,
   "metadata": {},
   "outputs": [
    {
     "name": "stdout",
     "output_type": "stream",
     "text": [
      "('Administration', 1)\n",
      "('Marketing', 2)\n",
      "('Purchasing', 6)\n",
      "('Human Resources', 1)\n",
      "('Shipping', 45)\n",
      "('IT', 5)\n",
      "('Public Relations', 1)\n",
      "('Sales', 34)\n",
      "('Executive', 3)\n",
      "('Finance', 6)\n",
      "('Accounting', 2)\n"
     ]
    }
   ],
   "source": [
    "query_61 = '''\n",
    "SELECT d.depart_name, COUNT (e.department_id)\n",
    "FROM employees AS e\n",
    "INNER JOIN departments AS d ON (d.department_id = e.department_id)\n",
    "GROUP BY e.department_id\n",
    "'''\n",
    "    \n",
    "cur.execute(query_61)\n",
    "for c in cur.fetchall():\n",
    "    print(c)"
   ]
  },
  {
   "cell_type": "markdown",
   "metadata": {},
   "source": [
    "+ Write a query to find the employee ID, job title number of days between ending date and starting date for all jobs in department 90 from job history."
   ]
  },
  {
   "cell_type": "code",
   "execution_count": 68,
   "metadata": {},
   "outputs": [
    {
     "name": "stdout",
     "output_type": "stream",
     "text": [
      "(200, 'Administration Assistant', 2100.0)\n",
      "(200, 'Public Accountant', 1644.0)\n"
     ]
    }
   ],
   "source": [
    "query_62 = '''\n",
    "SELECT jh.employee_id, j.job_title, (JULIANDAY (jh.end_date) - JULIANDAY (jh.start_date)) AS 'days'\n",
    "FROM job_history AS jh\n",
    "INNER JOIN jobs AS j ON jh.job_id = j.job_id\n",
    "WHERE jh.department_id = 90\n",
    "'''\n",
    "    \n",
    "cur.execute(query_62)\n",
    "for c in cur.fetchmany(10):\n",
    "    print(c)"
   ]
  },
  {
   "cell_type": "markdown",
   "metadata": {},
   "source": [
    "+ Write a query to display the department ID, department name, and manager first name."
   ]
  },
  {
   "cell_type": "code",
   "execution_count": 69,
   "metadata": {},
   "outputs": [
    {
     "name": "stdout",
     "output_type": "stream",
     "text": [
      "(10, 'Administration', 'Jennifer')\n",
      "(20, 'Marketing', 'Michael')\n",
      "(30, 'Purchasing', 'Den')\n",
      "(40, 'Human Resources', 'Susan')\n",
      "(50, 'Shipping', 'Adam')\n",
      "(60, 'IT', 'Alexander')\n",
      "(70, 'Public Relations', 'Hermann')\n",
      "(80, 'Sales', 'John')\n",
      "(90, 'Executive', 'Steven')\n",
      "(100, 'Finance', 'Nancy')\n"
     ]
    }
   ],
   "source": [
    "query_63 = '''\n",
    "SELECT d.department_id, depart_name, e.first_name\n",
    "FROM departments AS d\n",
    "INNER JOIN employees AS e ON (d.manager_id = e.employee_id)\n",
    "'''\n",
    "    \n",
    "cur.execute(query_63)\n",
    "for c in cur.fetchmany(10):\n",
    "    print(c)"
   ]
  },
  {
   "cell_type": "markdown",
   "metadata": {},
   "source": [
    "+ Write a query to display the department name, manager name, and city. "
   ]
  },
  {
   "cell_type": "code",
   "execution_count": 70,
   "metadata": {},
   "outputs": [
    {
     "name": "stdout",
     "output_type": "stream",
     "text": [
      "('Administration', 'Jennifer', 'Seattle')\n",
      "('Marketing', 'Michael', 'Toronto')\n",
      "('Purchasing', 'Den', 'Seattle')\n",
      "('Human Resources', 'Susan', 'London')\n",
      "('Shipping', 'Adam', 'South San Francisco')\n",
      "('IT', 'Alexander', 'Southlake')\n",
      "('Public Relations', 'Hermann', 'Munich')\n",
      "('Sales', 'John', 'Oxford')\n",
      "('Executive', 'Steven', 'Seattle')\n",
      "('Finance', 'Nancy', 'Seattle')\n"
     ]
    }
   ],
   "source": [
    "query_64 = '''\n",
    "SELECT d.depart_name, e.first_name, l.city\n",
    "FROM departments AS d\n",
    "INNER JOIN employees AS e ON (d.manager_id = e.employee_id)\n",
    "INNER JOIN locations AS l ON (d.location_id = l.location_id)\n",
    "'''\n",
    "    \n",
    "cur.execute(query_64)\n",
    "for c in cur.fetchmany(10):\n",
    "    print(c)"
   ]
  },
  {
   "cell_type": "markdown",
   "metadata": {},
   "source": [
    "+ Write a query to display the job title and average salary of employees. "
   ]
  },
  {
   "cell_type": "code",
   "execution_count": 71,
   "metadata": {},
   "outputs": [
    {
     "name": "stdout",
     "output_type": "stream",
     "text": [
      "('Accountant', 4800)\n",
      "('Accounting Manager', 7800)\n",
      "('Administration Assistant', 3000)\n",
      "('Administration Vice President', 15000)\n",
      "('Finance Manager', 7800)\n",
      "('Human Resources Representative', 5000)\n",
      "('Marketing Manager', 6000)\n",
      "('Marketing Representative', 5000)\n",
      "('President', 20000)\n",
      "('Programmer', 6000)\n"
     ]
    }
   ],
   "source": [
    "query_65 = '''\n",
    "SELECT job_title, (max_salary-min_salary) as 'Average Salary'\n",
    "FROM jobs\n",
    "GROUP BY job_title\n",
    "'''\n",
    "    \n",
    "cur.execute(query_65)\n",
    "for c in cur.fetchmany(10):\n",
    "    print(c)"
   ]
  },
  {
   "cell_type": "markdown",
   "metadata": {},
   "source": [
    "+ Write a query to to display job title, employee name, and the difference between the salary of the employee and minimum salary for the job."
   ]
  },
  {
   "cell_type": "code",
   "execution_count": 72,
   "metadata": {},
   "outputs": [
    {
     "name": "stdout",
     "output_type": "stream",
     "text": [
      "('President', 'Steven', 4000)\n",
      "('Administration Vice President', 'Neena', 2000)\n",
      "('Administration Vice President', 'Lex', 2000)\n",
      "('Programmer', 'Alexander', 5000)\n",
      "('Programmer', 'Bruce', 2000)\n",
      "('Programmer', 'David', 800)\n",
      "('Programmer', 'Valli', 800)\n",
      "('Programmer', 'Diana', 200)\n",
      "('Finance Manager', 'Nancy', 3800)\n",
      "('Accountant', 'Daniel', 4800)\n"
     ]
    }
   ],
   "source": [
    "query_66 = '''\n",
    "SELECT j.job_title, e.first_name, e.salary - j.min_salary\n",
    "FROM employees AS e\n",
    "INNER JOIN jobs AS j ON (e.job_id=j.job_id)\n",
    "'''\n",
    "    \n",
    "cur.execute(query_66)\n",
    "for c in cur.fetchmany(10):\n",
    "    print(c)"
   ]
  },
  {
   "cell_type": "markdown",
   "metadata": {},
   "source": [
    "+ Write a query to display the job history that was done by any employee who is currently drawing more than 10000 of salary."
   ]
  },
  {
   "cell_type": "code",
   "execution_count": 73,
   "metadata": {},
   "outputs": [
    {
     "name": "stdout",
     "output_type": "stream",
     "text": [
      "(102, '1993-01-13', '1998-07-24', 'IT_PROG', 60)\n",
      "(101, '1989-09-21', '1993-10-27', 'AC_ACCOUNT', 110)\n",
      "(101, '1993-10-28', '1997-03-15', 'AC_MGR', 110)\n",
      "(201, '1996-02-17', '1999-12-19', 'MK_REP', 20)\n",
      "(114, '1998-03-24', '1999-12-31', 'ST_CLERK', 50)\n"
     ]
    }
   ],
   "source": [
    "query_67 = '''\n",
    "SELECT jh.*\n",
    "FROM job_history as jh\n",
    "INNER JOIN employees AS e ON (e.employee_id=jh.employee_id)\n",
    "WHERE e.salary > 10000\n",
    "'''\n",
    "    \n",
    "cur.execute(query_67)\n",
    "for c in cur.fetchmany(10):\n",
    "    print(c)"
   ]
  }
 ],
 "metadata": {
  "kernelspec": {
   "display_name": "Python 3",
   "language": "python",
   "name": "python3"
  },
  "language_info": {
   "codemirror_mode": {
    "name": "ipython",
    "version": 3
   },
   "file_extension": ".py",
   "mimetype": "text/x-python",
   "name": "python",
   "nbconvert_exporter": "python",
   "pygments_lexer": "ipython3",
   "version": "3.7.6"
  }
 },
 "nbformat": 4,
 "nbformat_minor": 4
}
